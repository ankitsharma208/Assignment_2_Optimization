{
 "cells": [
  {
   "cell_type": "code",
   "id": "initial_id",
   "metadata": {
    "collapsed": true,
    "ExecuteTime": {
     "end_time": "2024-10-11T04:14:03.476602Z",
     "start_time": "2024-10-11T04:14:03.471073Z"
    }
   },
   "source": [
    "import mlrose_hiive as mlrose\n",
    "import numpy as np\n",
    "import pandas as pd"
   ],
   "outputs": [],
   "execution_count": 27
  },
  {
   "metadata": {
    "ExecuteTime": {
     "end_time": "2024-10-11T04:14:04.994928Z",
     "start_time": "2024-10-11T04:14:04.988409Z"
    }
   },
   "cell_type": "code",
   "source": [
    "# Create list of city coordinates\n",
    "coords_list = [(1, 1), (4, 2), (5, 2), (6, 4), (4, 4), (3, 6), (1, 5), (2, 3)]\n",
    "\n",
    "# Initialize fitness function object using coords_list\n",
    "fitness_coords = mlrose.TravellingSales(coords = coords_list)"
   ],
   "id": "c72b12d30d8234ba",
   "outputs": [],
   "execution_count": 28
  },
  {
   "metadata": {
    "ExecuteTime": {
     "end_time": "2024-10-11T00:41:58.614009Z",
     "start_time": "2024-10-11T00:41:58.575644Z"
    }
   },
   "cell_type": "code",
   "source": [
    "# Create list of distances between pairs of cities\n",
    "dist_list = [(0, 1, 3.1623), (0, 2, 4.1231), (0, 3, 5.8310), (0, 4, 4.2426), \\\n",
    "             (0, 5, 5.3852), (0, 6, 4.0000), (0, 7, 2.2361), (1, 2, 1.0000), \\\n",
    "             (1, 3, 2.8284), (1, 4, 2.0000), (1, 5, 4.1231), (1, 6, 4.2426), \\\n",
    "             (1, 7, 2.2361), (2, 3, 2.2361), (2, 4, 2.2361), (2, 5, 4.4721), \\\n",
    "             (2, 6, 5.0000), (2, 7, 3.1623), (3, 4, 2.0000), (3, 5, 3.6056), \\\n",
    "             (3, 6, 5.0990), (3, 7, 4.1231), (4, 5, 2.2361), (4, 6, 3.1623), \\\n",
    "             (4, 7, 2.2361), (5, 6, 2.2361), (5, 7, 3.1623), (6, 7, 2.2361)]\n",
    "\n",
    "# Initialize fitness function object using dist_list\n",
    "fitness_dists = mlrose.TravellingSales(distances = dist_list)"
   ],
   "id": "d56051b4721c5b9c",
   "outputs": [],
   "execution_count": 3
  },
  {
   "metadata": {
    "ExecuteTime": {
     "end_time": "2024-10-11T02:01:58.277504Z",
     "start_time": "2024-10-11T02:01:58.271398Z"
    }
   },
   "cell_type": "code",
   "source": [
    "# Define optimization problem object\n",
    "problem_fit = mlrose.TSPOpt(length = 8, fitness_fn = fitness_dists, maximize=False)\n",
    "problem_name = \"TravellingSales_Problem\"\n",
    "output_dir = \"TravellingSales\"\n",
    "random_state = 2024\n"
   ],
   "id": "7a733da25073a4d6",
   "outputs": [],
   "execution_count": 20
  },
  {
   "metadata": {
    "ExecuteTime": {
     "end_time": "2024-10-11T01:56:11.191403Z",
     "start_time": "2024-10-11T01:56:07.869167Z"
    }
   },
   "cell_type": "code",
   "source": [
    "# Solve problem using the genetic algorithm\n",
    "best_state, best_fitness , curve = mlrose.genetic_alg(problem_fit, random_state = 2)\n",
    "\n",
    "print(best_state)\n",
    "\n",
    "print(best_fitness)\n"
   ],
   "id": "b8be721ecb5880bb",
   "outputs": [
    {
     "name": "stdout",
     "output_type": "stream",
     "text": [
      "[7 6 5 4 3 2 1 0]\n",
      "17.3428\n"
     ]
    }
   ],
   "execution_count": 11
  },
  {
   "metadata": {
    "ExecuteTime": {
     "end_time": "2024-10-11T01:56:24.184216Z",
     "start_time": "2024-10-11T01:56:15.520636Z"
    }
   },
   "cell_type": "code",
   "source": [
    "# Solve problem using the genetic algorithm\n",
    "best_state, best_fitness , gcurve = mlrose.genetic_alg(problem_fit, mutation_prob = 0.2,\n",
    "                                              max_attempts = 100, random_state = 2)\n",
    "\n",
    "print(best_state)\n",
    "\n",
    "print(best_fitness)"
   ],
   "id": "6fec5f73fb14707d",
   "outputs": [
    {
     "name": "stdout",
     "output_type": "stream",
     "text": [
      "[1 0 7 6 5 4 3 2]\n",
      "17.3428\n"
     ]
    }
   ],
   "execution_count": 12
  },
  {
   "metadata": {
    "ExecuteTime": {
     "end_time": "2024-10-11T01:57:27.156650Z",
     "start_time": "2024-10-11T01:57:26.702401Z"
    }
   },
   "cell_type": "code",
   "source": [
    "\n",
    "schedule = mlrose.ExpDecay()\n",
    "best_state, best_fitness , sacurve = mlrose.simulated_annealing(problem_fit, schedule = schedule,max_attempts = 10000, max_iters = 1000, random_state = 1)\n",
    "print(best_state)\n",
    "\n",
    "print(best_fitness)\n"
   ],
   "id": "1096cd1a646c2731",
   "outputs": [
    {
     "name": "stdout",
     "output_type": "stream",
     "text": [
      "[4 3 2 1 0 7 6 5]\n",
      "17.3428\n"
     ]
    }
   ],
   "execution_count": 19
  },
  {
   "metadata": {
    "ExecuteTime": {
     "end_time": "2024-10-11T02:03:20.999049Z",
     "start_time": "2024-10-11T02:02:06.605893Z"
    }
   },
   "cell_type": "code",
   "source": [
    "mim = mlrose.MIMICRunner(problem=problem_fit,\n",
    "                       experiment_name=problem_name,\n",
    "                       output_directory=output_dir,\n",
    "                       seed=random_state,\n",
    "                       population_sizes=[50, 100, 200, 500, 1000, 2000],\n",
    "                       keep_percent_list=[0.1, 0.25, 0.5, 0.7, 0.8],\n",
    "                       iteration_list=[50],\n",
    "                       use_fast_mimic=True)\n",
    "mim_stats, mim_curve = mim.run()"
   ],
   "id": "95c5c2ab28cdea45",
   "outputs": [],
   "execution_count": 21
  },
  {
   "metadata": {
    "ExecuteTime": {
     "end_time": "2024-10-11T02:09:12.333676Z",
     "start_time": "2024-10-11T02:09:12.315260Z"
    }
   },
   "cell_type": "code",
   "source": [
    "show=10\n",
    "columns = ['Time', 'Fitness', 'Population Size', 'Keep Percent']\n",
    "pd.set_option('display.max_rows',show)\n",
    "df=pd.read_csv(\"./TravellingSales/TravellingSales_Problem/mimic__TravellingSales_Problem__run_stats_df.csv\")\n",
    "df[columns].sort_values(by=['Fitness'], ascending=True).head(show)"
   ],
   "id": "4ec044fddaace64b",
   "outputs": [
    {
     "data": {
      "text/plain": [
       "        Time  Fitness  Population Size  Keep Percent\n",
       "59  7.548991  17.3428             2000          0.80\n",
       "31  1.872823  17.3428              500          0.10\n",
       "33  1.850801  17.3428              500          0.25\n",
       "13  0.379532  17.3428              100          0.25\n",
       "35  2.618223  17.3428              500          0.50\n",
       "37  2.443010  17.3428              500          0.70\n",
       "39  3.005654  17.3428              500          0.80\n",
       "25  0.832298  17.3428              200          0.50\n",
       "41  3.549965  17.3428             1000          0.10\n",
       "45  3.638015  17.3428             1000          0.50"
      ],
      "text/html": [
       "<div>\n",
       "<style scoped>\n",
       "    .dataframe tbody tr th:only-of-type {\n",
       "        vertical-align: middle;\n",
       "    }\n",
       "\n",
       "    .dataframe tbody tr th {\n",
       "        vertical-align: top;\n",
       "    }\n",
       "\n",
       "    .dataframe thead th {\n",
       "        text-align: right;\n",
       "    }\n",
       "</style>\n",
       "<table border=\"1\" class=\"dataframe\">\n",
       "  <thead>\n",
       "    <tr style=\"text-align: right;\">\n",
       "      <th></th>\n",
       "      <th>Time</th>\n",
       "      <th>Fitness</th>\n",
       "      <th>Population Size</th>\n",
       "      <th>Keep Percent</th>\n",
       "    </tr>\n",
       "  </thead>\n",
       "  <tbody>\n",
       "    <tr>\n",
       "      <th>59</th>\n",
       "      <td>7.548991</td>\n",
       "      <td>17.3428</td>\n",
       "      <td>2000</td>\n",
       "      <td>0.80</td>\n",
       "    </tr>\n",
       "    <tr>\n",
       "      <th>31</th>\n",
       "      <td>1.872823</td>\n",
       "      <td>17.3428</td>\n",
       "      <td>500</td>\n",
       "      <td>0.10</td>\n",
       "    </tr>\n",
       "    <tr>\n",
       "      <th>33</th>\n",
       "      <td>1.850801</td>\n",
       "      <td>17.3428</td>\n",
       "      <td>500</td>\n",
       "      <td>0.25</td>\n",
       "    </tr>\n",
       "    <tr>\n",
       "      <th>13</th>\n",
       "      <td>0.379532</td>\n",
       "      <td>17.3428</td>\n",
       "      <td>100</td>\n",
       "      <td>0.25</td>\n",
       "    </tr>\n",
       "    <tr>\n",
       "      <th>35</th>\n",
       "      <td>2.618223</td>\n",
       "      <td>17.3428</td>\n",
       "      <td>500</td>\n",
       "      <td>0.50</td>\n",
       "    </tr>\n",
       "    <tr>\n",
       "      <th>37</th>\n",
       "      <td>2.443010</td>\n",
       "      <td>17.3428</td>\n",
       "      <td>500</td>\n",
       "      <td>0.70</td>\n",
       "    </tr>\n",
       "    <tr>\n",
       "      <th>39</th>\n",
       "      <td>3.005654</td>\n",
       "      <td>17.3428</td>\n",
       "      <td>500</td>\n",
       "      <td>0.80</td>\n",
       "    </tr>\n",
       "    <tr>\n",
       "      <th>25</th>\n",
       "      <td>0.832298</td>\n",
       "      <td>17.3428</td>\n",
       "      <td>200</td>\n",
       "      <td>0.50</td>\n",
       "    </tr>\n",
       "    <tr>\n",
       "      <th>41</th>\n",
       "      <td>3.549965</td>\n",
       "      <td>17.3428</td>\n",
       "      <td>1000</td>\n",
       "      <td>0.10</td>\n",
       "    </tr>\n",
       "    <tr>\n",
       "      <th>45</th>\n",
       "      <td>3.638015</td>\n",
       "      <td>17.3428</td>\n",
       "      <td>1000</td>\n",
       "      <td>0.50</td>\n",
       "    </tr>\n",
       "  </tbody>\n",
       "</table>\n",
       "</div>"
      ]
     },
     "execution_count": 24,
     "metadata": {},
     "output_type": "execute_result"
    }
   ],
   "execution_count": 24
  }
 ],
 "metadata": {
  "kernelspec": {
   "display_name": "Python 3",
   "language": "python",
   "name": "python3"
  },
  "language_info": {
   "codemirror_mode": {
    "name": "ipython",
    "version": 2
   },
   "file_extension": ".py",
   "mimetype": "text/x-python",
   "name": "python",
   "nbconvert_exporter": "python",
   "pygments_lexer": "ipython2",
   "version": "2.7.6"
  }
 },
 "nbformat": 4,
 "nbformat_minor": 5
}
